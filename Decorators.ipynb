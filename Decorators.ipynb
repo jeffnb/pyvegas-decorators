{
 "cells": [
  {
   "cell_type": "markdown",
   "metadata": {},
   "source": [
    "# Decorators and Functions "
   ]
  },
  {
   "cell_type": "markdown",
   "metadata": {},
   "source": [
    "## https://github.com/jeffnb/pyvegas-decorators\n"
   ]
  },
  {
   "cell_type": "markdown",
   "metadata": {},
   "source": [
    "In python applying logic to functions is much more straight forward that in other languages such as Java thanks to functions being considered first clas citizens"
   ]
  },
  {
   "cell_type": "markdown",
   "metadata": {},
   "source": [
    "## Fuctions in Python"
   ]
  },
  {
   "cell_type": "code",
   "execution_count": null,
   "metadata": {},
   "outputs": [],
   "source": [
    "from datetime import datetime\n",
    "\n",
    "def print_and_get_time():\n",
    "    \"\"\"\n",
    "    simply prints the time\n",
    "    \"\"\"\n",
    "    my_time = datetime.now()\n",
    "    print(my_time)\n",
    "    return my_time"
   ]
  },
  {
   "cell_type": "code",
   "execution_count": null,
   "metadata": {},
   "outputs": [],
   "source": [
    "print_and_get_time()"
   ]
  },
  {
   "cell_type": "markdown",
   "metadata": {},
   "source": [
    "### However, we can also assign the function to a variable"
   ]
  },
  {
   "cell_type": "code",
   "execution_count": null,
   "metadata": {},
   "outputs": [],
   "source": [
    "my_plagarism = print_and_get_time # notice the lack of () behind the function call"
   ]
  },
  {
   "cell_type": "code",
   "execution_count": null,
   "metadata": {},
   "outputs": [],
   "source": [
    "my_plagarism()"
   ]
  },
  {
   "cell_type": "markdown",
   "metadata": {},
   "source": [
    "We have the ability to call the variable like any other function.  "
   ]
  },
  {
   "cell_type": "markdown",
   "metadata": {},
   "source": [
    "### We can also pass our function to other functions"
   ]
  },
  {
   "cell_type": "code",
   "execution_count": null,
   "metadata": {},
   "outputs": [],
   "source": [
    "def i_will_call_your_function(func):\n",
    "    return func() # Now we put the () to tell python to run the fuction"
   ]
  },
  {
   "cell_type": "code",
   "execution_count": null,
   "metadata": {},
   "outputs": [],
   "source": [
    "i_will_call_your_function(print_and_get_time) # again no () because we don't want to execute we want the function"
   ]
  },
  {
   "cell_type": "markdown",
   "metadata": {},
   "source": [
    "## Decorators\n",
    "\n",
    "Decorators are one step beyond what we have seen\n",
    "\n",
    "A decorator is just a function that returns another function thus wrapping the incoming function"
   ]
  },
  {
   "cell_type": "markdown",
   "metadata": {},
   "source": [
    "### The manual way"
   ]
  },
  {
   "cell_type": "code",
   "execution_count": null,
   "metadata": {},
   "outputs": [],
   "source": [
    "def add(n1: int, n2: int) -> int:\n",
    "    \"\"\"\n",
    "    Simply adds the two numbers.  Don't overthink this part\n",
    "    \"\"\"\n",
    "    return n1 + n2"
   ]
  },
  {
   "cell_type": "code",
   "execution_count": null,
   "metadata": {},
   "outputs": [],
   "source": [
    "def print_params(func):\n",
    "    \n",
    "    def wrapper(*args, **kwargs):\n",
    "        \"\"\"\n",
    "        Simply prints then calls the function\n",
    "        \"\"\"\n",
    "        print(\"Args: \", args)\n",
    "        print(\"Kwargs: \", kwargs)\n",
    "        return func(*args, **kwargs)\n",
    "    \n",
    "    return wrapper"
   ]
  },
  {
   "cell_type": "code",
   "execution_count": null,
   "metadata": {},
   "outputs": [],
   "source": [
    "new_func = print_params(add)"
   ]
  },
  {
   "cell_type": "code",
   "execution_count": null,
   "metadata": {},
   "outputs": [],
   "source": [
    "new_func.__name__"
   ]
  },
  {
   "cell_type": "code",
   "execution_count": null,
   "metadata": {},
   "outputs": [],
   "source": [
    "new_func(1, 2)"
   ]
  },
  {
   "cell_type": "markdown",
   "metadata": {},
   "source": [
    "This is what the basic step process for a decorator is\n",
    "1. Function that defines a wrapper function\n",
    "2. Call decorator function with the function that needs to be wrapped\n",
    "3. Store the returned function\n",
    "4. Call the new function"
   ]
  },
  {
   "cell_type": "markdown",
   "metadata": {},
   "source": [
    "### Using @\n",
    "\n",
    "However, decorators are a cool hack to make it easier and only do it in 2 steps\n",
    "\n"
   ]
  },
  {
   "cell_type": "code",
   "execution_count": null,
   "metadata": {},
   "outputs": [],
   "source": [
    "def print_params(func):\n",
    "    \n",
    "    def wrapper(*args, **kwargs):\n",
    "        \"\"\"\n",
    "        Simply prints then calls the function\n",
    "        \"\"\"\n",
    "        print(\"Args: \", args)\n",
    "        print(\"Kwargs: \", kwargs)\n",
    "        return func(*args, **kwargs)\n",
    "    \n",
    "    return wrapper"
   ]
  },
  {
   "cell_type": "code",
   "execution_count": null,
   "metadata": {},
   "outputs": [],
   "source": [
    "@print_params  # Simply adding @<func_name> allows you to have a decorator\n",
    "def add(n1: int, n2: int) -> int:\n",
    "    \"\"\"\n",
    "    Simply adds the two numbers.  Don't overthink this part\n",
    "    \"\"\"\n",
    "    return n1 + n2"
   ]
  },
  {
   "cell_type": "code",
   "execution_count": null,
   "metadata": {},
   "outputs": [],
   "source": [
    "add(1, 2)"
   ]
  },
  {
   "cell_type": "markdown",
   "metadata": {},
   "source": [
    "### What about function info?\n",
    "\n",
    "Notice how we don't get the actual name of the function we get the wrapper including doc strings"
   ]
  },
  {
   "cell_type": "code",
   "execution_count": null,
   "metadata": {},
   "outputs": [],
   "source": [
    "add.__name__"
   ]
  },
  {
   "cell_type": "code",
   "execution_count": null,
   "metadata": {},
   "outputs": [],
   "source": [
    "help(add)"
   ]
  },
  {
   "cell_type": "markdown",
   "metadata": {},
   "source": [
    "### @wraps\n",
    "\n",
    "Python functools has an @wraps decorator that takes care of this"
   ]
  },
  {
   "cell_type": "code",
   "execution_count": null,
   "metadata": {},
   "outputs": [],
   "source": [
    "from functools import wraps\n",
    "\n",
    "def print_params(func):\n",
    "    \n",
    "    @wraps(func)\n",
    "    def wrapper(*args, **kwargs):\n",
    "        \"\"\"\n",
    "        Simply prints then calls the function\n",
    "        \"\"\"\n",
    "        print(\"Args: \", args)\n",
    "        print(\"Kwargs: \", kwargs)\n",
    "        return func(*args, **kwargs)\n",
    "    \n",
    "    return wrapper"
   ]
  },
  {
   "cell_type": "code",
   "execution_count": null,
   "metadata": {},
   "outputs": [],
   "source": [
    "@print_params  # Simply adding @<func_name> allows you to have a decorator\n",
    "def add(n1: int, n2: int) -> int:\n",
    "    \"\"\"\n",
    "    Simply adds the two numbers.  Don't overthink this part\n",
    "    \"\"\"\n",
    "    return n1 + n2"
   ]
  },
  {
   "cell_type": "code",
   "execution_count": null,
   "metadata": {},
   "outputs": [],
   "source": [
    "add.__name__"
   ]
  },
  {
   "cell_type": "code",
   "execution_count": null,
   "metadata": {
    "scrolled": true
   },
   "outputs": [],
   "source": [
    "help(add)"
   ]
  },
  {
   "cell_type": "markdown",
   "metadata": {},
   "source": [
    "### Class Based"
   ]
  },
  {
   "cell_type": "code",
   "execution_count": null,
   "metadata": {},
   "outputs": [],
   "source": [
    "class PrintParamsClass:\n",
    "    def __init__(self, func):\n",
    "        self.func = func\n",
    "        \n",
    "    def __call__(self, *args, **kwargs):\n",
    "        \"\"\"\n",
    "        Simply prints then calls the function\n",
    "        \"\"\"\n",
    "        print(\"Args: \", args)\n",
    "        print(\"Kwargs: \", kwargs)\n",
    "        return self.func(*args, **kwargs)"
   ]
  },
  {
   "cell_type": "code",
   "execution_count": null,
   "metadata": {},
   "outputs": [],
   "source": [
    "@PrintParamsClass\n",
    "def add(n1: int, n2: int) -> int:\n",
    "    \"\"\"\n",
    "    Simply adds the two numbers.  Don't overthink this part\n",
    "    \"\"\"\n",
    "    return n1 + n2"
   ]
  },
  {
   "cell_type": "code",
   "execution_count": null,
   "metadata": {},
   "outputs": [],
   "source": [
    "add(1, 2)"
   ]
  },
  {
   "cell_type": "markdown",
   "metadata": {},
   "source": [
    "## Decorators with parameters\n",
    "\n",
    "In order to do this there are 3 layers of nesting\n",
    "1. Highest level takes in the parameters when the module is initialized\n",
    "2. Middle layer is the equivalent to the decorator from the above example\n",
    "3. Wrapper function contains the actual logic"
   ]
  },
  {
   "cell_type": "code",
   "execution_count": null,
   "metadata": {},
   "outputs": [],
   "source": [
    "from functools import wraps\n",
    "\n",
    "def print_params_factory(enabled=False):\n",
    "    \n",
    "    def print_params(func):\n",
    "\n",
    "        @wraps(func)\n",
    "        def wrapper(*args, **kwargs):\n",
    "            \"\"\"\n",
    "            Simply prints then calls the function\n",
    "            \"\"\"\n",
    "            if enabled:\n",
    "                print(\"Args: \", args)\n",
    "                print(\"Kwargs: \", kwargs)\n",
    "            return func(*args, **kwargs)\n",
    "\n",
    "        return wrapper\n",
    "    return print_params"
   ]
  },
  {
   "cell_type": "code",
   "execution_count": null,
   "metadata": {},
   "outputs": [],
   "source": [
    "@print_params_factory(True)\n",
    "def add(n1: int, n2: int) -> int:\n",
    "    \"\"\"\n",
    "    Simply adds the two numbers.  Don't overthink this part\n",
    "    \"\"\"\n",
    "    return n1 + n2"
   ]
  },
  {
   "cell_type": "code",
   "execution_count": null,
   "metadata": {},
   "outputs": [],
   "source": [
    "add(1, 2)"
   ]
  },
  {
   "cell_type": "code",
   "execution_count": null,
   "metadata": {},
   "outputs": [],
   "source": []
  }
 ],
 "metadata": {
  "kernelspec": {
   "display_name": "Python 3",
   "language": "python",
   "name": "python3"
  },
  "language_info": {
   "codemirror_mode": {
    "name": "ipython",
    "version": 3
   },
   "file_extension": ".py",
   "mimetype": "text/x-python",
   "name": "python",
   "nbconvert_exporter": "python",
   "pygments_lexer": "ipython3",
   "version": "3.7.7"
  }
 },
 "nbformat": 4,
 "nbformat_minor": 4
}
